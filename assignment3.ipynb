{
 "cells": [
  {
   "cell_type": "code",
   "execution_count": 100,
   "metadata": {},
   "outputs": [],
   "source": [
    "#get info from the website and save it to csv\n",
    "import requests \n",
    "from bs4 import BeautifulSoup\n",
    "import csv\n",
    "import time\n",
    "from fake_useragent import UserAgent\n",
    "\n",
    "csv_file=open('./movieInfo.csv', 'w', newline='',encoding='utf-8')\n",
    "writer = csv.writer(csv_file)\n",
    "writer.writerow(['Name', 'Rating','Area','Year','Director','Actor','Genre','Comment'])\n",
    "\n",
    "headers={\n",
    "    'User-Agent':\"Mozilla/5.0 (Windows NT 6.1; WOW64) AppleWebKit/537.17 (KHTML, like Gecko) Chrome/24.0.1312.60 Safari/537.17\"\n",
    "}\n",
    "url='https://movie.douban.com/top250?start='\n",
    "\n",
    "for i in range(10):\n",
    "    urls = url + str(i*25)  \n",
    "    res=requests.get(urls,headers= headers)\n",
    "    bs=BeautifulSoup(res.text,'html.parser')\n",
    "    movie_list=bs.select(\"div.info\")\n",
    "    for one in movie_list:\n",
    "        #movie_name\n",
    "        name=one.find(\"span\", class_=\"title\").text\n",
    "        \n",
    "        #mixed info\n",
    "        movie_info=one.find(\"div\",class_=\"bd\").find(\"p\").text.strip()\n",
    "        movie_info_split=movie_info.split(\"\\n\")#split by <br> \n",
    "        info_split_1=movie_info_split[0].strip()#directors_actors\n",
    "        info_split_2=movie_info_split[1].strip()#year_area_genre\n",
    "        \n",
    "        info_1=info_split_1.split(\"\\xa0\\xa0\\xa0\")#split by &nbsp&nbsp&nbsp\n",
    "        director_1=info_1[0]\n",
    "        #director\n",
    "        director=director_1.split(\":\")[1].strip()#director:xxx\n",
    "        \n",
    "        if \"\\xa0\\xa0\\xa0\" in info_split_1:\n",
    "            if \":\" in info_1[1]:\n",
    "                #actor\n",
    "                actor=info_1[1].split(\":\")[1].strip()#actor:xxx\n",
    "            else:\n",
    "                actor=' '\n",
    "        else:\n",
    "            actor=' '\n",
    "        \n",
    "        \n",
    "        info_2 = info_split_2.split(\"/\")   #year area genre split by '/'\n",
    "        year = info_2[0].strip()\n",
    "        #year\n",
    "        year=year.strip(\"(中国大陆)\")#deal with the '1981(中国大陆)'\n",
    "        #area\n",
    "        area=info_2[-2].strip()\n",
    "        #genre\n",
    "        genre = info_2[-1].strip()\n",
    "        #rating\n",
    "        rating=one.find('span',class_='rating_num').text\n",
    "        \n",
    "        #comment\n",
    "        if one.find('span',class_=\"inq\") != None:\n",
    "            comment=one.find('span',class_= 'inq').text\n",
    "        else:\n",
    "            comment=' '\n",
    "        writer.writerow([ name, rating,area, year, director, actor, genre,' '])   \n",
    "csv_file.close()\n"
   ]
  },
  {
   "cell_type": "code",
   "execution_count": 101,
   "metadata": {
    "scrolled": true
   },
   "outputs": [
    {
     "data": {
      "text/plain": [
       "<matplotlib.axes._subplots.AxesSubplot at 0x174baf67df0>"
      ]
     },
     "execution_count": 101,
     "metadata": {},
     "output_type": "execute_result"
    },
    {
     "data": {
      "image/png": "[encoded data removed]",
      "text/plain": [
       "<Figure size 864x576 with 1 Axes>"
      ]
     },
     "metadata": {
      "needs_background": "light"
     },
     "output_type": "display_data"
    }
   ],
   "source": [
    "#using pandas to visualize Ⅰ. year\n",
    "import pandas as pd\n",
    "import matplotlib.pyplot as plot\n",
    "df=pd.read_csv('./movieInfo.csv',encoding='utf-8')\n",
    "df['Year'].value_counts().plot(kind='bar',figsize=(12,8),color='b')\n",
    "\n"
   ]
  },
  {
   "cell_type": "code",
   "execution_count": 102,
   "metadata": {
    "scrolled": false
   },
   "outputs": [
    {
     "data": {
      "text/plain": [
       "<matplotlib.axes._subplots.AxesSubplot at 0x174bc51d580>"
      ]
     },
     "execution_count": 102,
     "metadata": {},
     "output_type": "execute_result"
    },
    {
     "data": {
      "image/png": "[encoded data removed]",
      "text/plain": [
       "<Figure size 432x288 with 1 Axes>"
      ]
     },
     "metadata": {
      "needs_background": "light"
     },
     "output_type": "display_data"
    }
   ],
   "source": [
    "#using pandas to visualize Ⅱ. area\n",
    "area_split=df['Area'].str.split(' ').apply(pd.Series)\n",
    "a = area_split.apply(pd.value_counts)\n",
    "area_count = a.sum(axis=1)\n",
    "area_df = pd.DataFrame(area_count, columns=['count'], dtype=int)\n",
    "area_df.plot.bar(legend=False)"
   ]
  },
  {
   "cell_type": "code",
   "execution_count": null,
   "metadata": {},
   "outputs": [],
   "source": [
    "\n",
    "\n",
    "\n"
   ]
  },
  {
   "cell_type": "code",
   "execution_count": null,
   "metadata": {},
   "outputs": [],
   "source": []
  }
 ],
 "metadata": {
  "kernelspec": {
   "display_name": "Python 3",
   "language": "python",
   "name": "python3"
  },
  "language_info": {
   "codemirror_mode": {
    "name": "ipython",
    "version": 3
   },
   "file_extension": ".py",
   "mimetype": "text/x-python",
   "name": "python",
   "nbconvert_exporter": "python",
   "pygments_lexer": "ipython3",
   "version": "3.8.3"
  }
 },
 "nbformat": 4,
 "nbformat_minor": 4
}
